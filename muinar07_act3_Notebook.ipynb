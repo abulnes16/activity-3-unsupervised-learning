{
 "cells": [
  {
   "cell_type": "markdown",
   "id": "2179f2d5-3c52-40ef-89a6-a6bf3b667b67",
   "metadata": {},
   "source": [
    "![image-2.png](attachment:image-2.png)\n",
    "_Aprendizaje Automático_\n",
    "\n",
    "_Máster Universitario en Inteligencia Artificial_\n",
    "\n",
    "# Actividad grupal: Explorando patrones ocultos: Detección de Anomalías en datos\n",
    "## Objetivos\n",
    "\n",
    "Mediante este trabajo se pretende que ponga en práctica la aplicación de las técnicas de detección de anomalías. El objetivo es analizar si existen anomalías en el conjunto de datos aplicando técnicas univariantes y multivariantes. Debe detallar los pasos que hay que realizar para detección de valores inusuales.\n",
    "\n",
    "- \tEntender los métodos media móvil, z-score, Isolation Forest y Local Outlier Factor\n",
    "- \tImplementar el código para cada una de estas técnicas y analizar si existen o no anomalía\n",
    "- \n",
    "\tInvestigar sobre una técnica de detección de anomalías con un caso de uso concreto.\n",
    "\n",
    "Descripción de la actividad\n",
    "\n",
    "Debes realizar la actividad en el Notebook adjunto. Debes ir completando el código solicitado, así como responder a las preguntas que se van realizando.\n",
    "\n",
    "Tareas que\n",
    "- alizar\n",
    "\tDetección de \n",
    "- malías.\n",
    "\tDebes completar el código pedido en este notebook y contestar las pregunt\n",
    "- finales.\n",
    "\tBuscar dos artículos científicos (https://scholar.google.es/) con un caso de uso de detección de anomalías. Los artículos deben estar en revistas científicas, y deben ser posteriores a 2015. No debe utilizar técnicas de De\n",
    "- Learning.\n",
    "\tPara cada artí\n",
    "- O indicar:\n",
    "o\tObjetivo: cuál es el objetivo de la investigación, es decir a qué problema real está aplicando la detección\n",
    "-  anomalías.\n",
    "o\tTécnicas de detección de anoma\n",
    "- s empleadas.\n",
    "o\tPrincipales resultados de la aplicación y de la investigación.\n"
   ]
  },
  {
   "cell_type": "markdown",
   "id": "d6b223cc-37ea-4c71-83b1-3d14f08c2814",
   "metadata": {},
   "source": [
    "#### Integrantes del grupo"
   ]
  },
  {
   "cell_type": "code",
   "execution_count": 2,
   "id": "b551b017-af3e-4f8a-84fd-128fda892f3b",
   "metadata": {},
   "outputs": [],
   "source": [
    "# Coloca en este espacio el nombre de los integrantes del grupo"
   ]
  },
  {
   "cell_type": "markdown",
   "id": "c02a78f7-cd2f-4fde-91c2-4c5a1ac1355c",
   "metadata": {},
   "source": [
    "## Detección de anomalías"
   ]
  },
  {
   "cell_type": "markdown",
   "id": "a202a2c2-eb39-4beb-b555-de0cd9a6af2b",
   "metadata": {},
   "source": [
    "Los transformadores juegan un papel muy importante en el sistema eléctrico. Aunque son algunos de los componentes más confiables de la red eléctrica, también son propensos a fallar debido a muchos factores, tanto internos como externos. Podría haber muchos iniciadores que causen una falla en el transformador, pero los que potencialmente pueden conducir a una falla catastrófica son los siguientes:\n",
    "Falla mecánica\n",
    "Falla dieléctrica\n",
    "\n",
    "Contenido\n",
    "Estos datos se recopilaron a través de dispositivos IoT desde el 25 de junio de 2019 hasta el 14 de abril de 2020 y se actualizaron cada 15 minutos.\n",
    "El dataset contiene 19352 registros.\n",
    "Descripción de los parámetros:\n",
    "Voltaje de corriente:\n",
    "1. VL1- Fase Línea 1\n",
    "2. VL2- Fase Línea 2\n",
    "3. VL3- Fase Línea 3\n",
    "4. IL1- Línea actual 1\n",
    "5. IL2- Línea actual 2\n",
    "6. IL3- Línea actual 3\n",
    "7. VL12- Línea de tensión 1 2\n",
    "8. VL23- Línea de tensión 2 3\n",
    "9. VL31- Línea de tensión 3 1\n",
    "10. INUT-Corriente neutra"
   ]
  },
  {
   "cell_type": "code",
   "execution_count": 26,
   "id": "5bff89b9-c58c-4cbc-bf0e-9c8737a5065a",
   "metadata": {},
   "outputs": [],
   "source": [
    "import numpy as np\n",
    "import pandas as pd\n",
    "from matplotlib import pyplot as plt\n",
    "import seaborn as sns\n",
    "\n",
    "# se carga el dataset, con separados ;, se transforman las dos columnas Date y Time a una única columna con tipo datetime\n",
    "# en el fichero CSV existen NaN identificados por ?\n",
    "df = pd.read_csv('CurrentVoltage.csv', sep=',') "
   ]
  },
  {
   "cell_type": "markdown",
   "id": "91ffa6f1-8f62-472b-a2ba-64f8920e242c",
   "metadata": {},
   "source": [
    "#### ¿Cuántas instancias tiene el dataset?"
   ]
  },
  {
   "cell_type": "code",
   "execution_count": 51,
   "id": "7129db1e-2001-472d-9189-f93acf057742",
   "metadata": {},
   "outputs": [],
   "source": [
    "# Pon aquí tu código"
   ]
  },
  {
   "cell_type": "markdown",
   "id": "d70b584a-b90d-405d-ae54-6938b787f767",
   "metadata": {},
   "source": [
    "#### ¿Cuál es el tipo de datos predominante en las variables?"
   ]
  },
  {
   "cell_type": "code",
   "execution_count": 52,
   "id": "a651d2ca-30be-4ecb-aa38-a13b15f3841a",
   "metadata": {},
   "outputs": [],
   "source": [
    "#Inserta acá el código"
   ]
  },
  {
   "cell_type": "markdown",
   "id": "e5fa0b4f-202a-40f5-a964-62926d0888a3",
   "metadata": {},
   "source": [
    "## Variables nulas"
   ]
  },
  {
   "cell_type": "markdown",
   "id": "c1013d5b-a8dd-4e10-af4f-118512a663ce",
   "metadata": {},
   "source": [
    "#### ¿Tiene este dataset datos faltantes?"
   ]
  },
  {
   "cell_type": "markdown",
   "id": "5d43e9e5-0dd4-480a-a4e9-e5ab50f212ec",
   "metadata": {},
   "source": [
    "¿Tiene este dataset datos faltantes?"
   ]
  },
  {
   "cell_type": "markdown",
   "id": "c5d6992a-e4e5-4b4b-86f1-7a8e5bf30094",
   "metadata": {},
   "source": [
    "#### ¿Es necesario hacer algún tratamiendo adicional sobre los datos?"
   ]
  },
  {
   "cell_type": "code",
   "execution_count": 55,
   "id": "eebad195-e0c2-4c59-8183-0ab6be8aec93",
   "metadata": {},
   "outputs": [],
   "source": [
    "### PON AQUÍ TU CÓDIGO EN CASO DE QUE SEA NECESARIO HACER ALGÚN TRATAMIENTO ADICIONAL"
   ]
  },
  {
   "cell_type": "markdown",
   "id": "0a48f5cc-253e-452e-9db5-6681646396dd",
   "metadata": {},
   "source": [
    "#### Media móvil"
   ]
  },
  {
   "cell_type": "code",
   "execution_count": 70,
   "id": "c563ce6a-146d-4d76-b5a8-85d55dc82068",
   "metadata": {},
   "outputs": [],
   "source": [
    "# Vamos a aplicar la técnica de detección de anomalías de Media Móvil sobre la variable INUT"
   ]
  },
  {
   "cell_type": "code",
   "execution_count": 3,
   "id": "a16f69d9-88ec-49d7-a9b4-3ea35339ce22",
   "metadata": {},
   "outputs": [],
   "source": [
    "# Calcula la media móvil"
   ]
  },
  {
   "cell_type": "code",
   "execution_count": 4,
   "id": "0eb092d3-3938-4a75-ab67-53abb99d31de",
   "metadata": {},
   "outputs": [],
   "source": [
    "# Define un umbral para detectar anomalías"
   ]
  },
  {
   "cell_type": "code",
   "execution_count": null,
   "id": "5a6bc824-5302-4319-ac8c-0c8feeeabd5b",
   "metadata": {},
   "outputs": [],
   "source": [
    "# Visualiza los resultados"
   ]
  },
  {
   "cell_type": "markdown",
   "id": "5af89577-3a38-4f3a-907f-7e2020d4a16a",
   "metadata": {},
   "source": [
    "#### Z-Score"
   ]
  },
  {
   "cell_type": "code",
   "execution_count": 68,
   "id": "0232dcd2-7b81-40c5-82ee-4996f6912e26",
   "metadata": {},
   "outputs": [],
   "source": [
    "# Vamos a aplicar la técnica de detección de anomalías Z-Score\n",
    "# Pon aquí tu código"
   ]
  },
  {
   "cell_type": "code",
   "execution_count": null,
   "id": "b6f5f71a-e869-435e-9d67-f8d795abd627",
   "metadata": {},
   "outputs": [],
   "source": [
    "# Define un umbral para detectar anomalías (por ejemplo, 3 desviaciones estándar)"
   ]
  },
  {
   "cell_type": "code",
   "execution_count": null,
   "id": "fe706737-aa74-4d81-9960-e9b10e4f7288",
   "metadata": {},
   "outputs": [],
   "source": [
    "# Visualiza los resultados"
   ]
  },
  {
   "cell_type": "markdown",
   "id": "5d26ba45-324a-4cf0-93dd-b407fc476af6",
   "metadata": {},
   "source": [
    "#### Isolation Forest"
   ]
  },
  {
   "cell_type": "code",
   "execution_count": 57,
   "id": "c437e831-2bc5-4119-b448-9ee9130b77ab",
   "metadata": {},
   "outputs": [],
   "source": [
    "# Vamos a aplicar la técnica de detección de anomalías de Isolation Forest, configura el parámetro contamination en 5%\n",
    "# Pon aquí tu código"
   ]
  },
  {
   "cell_type": "code",
   "execution_count": 71,
   "id": "590a0463-1d90-4245-a95e-0e89c877d13e",
   "metadata": {},
   "outputs": [],
   "source": [
    "# Agrega las columnas de puntaje y si es dato anómalo o no en el dataframe"
   ]
  },
  {
   "cell_type": "code",
   "execution_count": 72,
   "id": "7e7b3916-b649-4b10-849f-562ba86cc1dd",
   "metadata": {},
   "outputs": [],
   "source": [
    "# Crea un gráfico de barras para mostrar los datos anómalos vs los datos normales"
   ]
  },
  {
   "cell_type": "code",
   "execution_count": 73,
   "id": "7acf8c86-4713-4177-b6dc-fed9e205d705",
   "metadata": {},
   "outputs": [],
   "source": [
    "# Crea un gráfico donde se puedan ver los datos anómalos sobre la variable INUT."
   ]
  },
  {
   "cell_type": "code",
   "execution_count": 74,
   "id": "6c531890-3581-466c-b3fd-1ea7f4bfb1b0",
   "metadata": {},
   "outputs": [],
   "source": [
    "# Repite los pasos anteriores con el parámetro de contamination en 1%"
   ]
  },
  {
   "cell_type": "markdown",
   "id": "2e2153da-3c75-46bf-a699-86d410a21858",
   "metadata": {},
   "source": [
    "## Local Outlier Factor"
   ]
  },
  {
   "cell_type": "code",
   "execution_count": 78,
   "id": "1c8b9bea-60ca-49e5-9fc2-d9057943e1e5",
   "metadata": {},
   "outputs": [],
   "source": [
    "# Vamos a aplicar la técnica de detección de anomalías de Local Outlier Factor\n",
    "# Pon aquí tu código"
   ]
  },
  {
   "cell_type": "code",
   "execution_count": 79,
   "id": "6d41e24b-70c2-47cf-b396-047098d08647",
   "metadata": {},
   "outputs": [],
   "source": [
    "# Crea un gráfico de barras para mostrar los datos anómalos vs los datos normales"
   ]
  },
  {
   "cell_type": "code",
   "execution_count": 80,
   "id": "a3e6e2e2-b6e1-4477-855c-3aa7dc24bcf3",
   "metadata": {},
   "outputs": [],
   "source": [
    "# Crea un gráfico donde se puedan ver los datos anómalos sobre la variable INUT."
   ]
  },
  {
   "cell_type": "markdown",
   "id": "1e29d46f-8f02-4c6a-8e68-d76fd5f82997",
   "metadata": {},
   "source": [
    "## Análisis"
   ]
  },
  {
   "cell_type": "code",
   "execution_count": 81,
   "id": "a67e8709-7e03-4c5a-9b09-b96b0e9310b4",
   "metadata": {},
   "outputs": [],
   "source": [
    "# Realiza un análisis detallado de los resultados obtenidos en cada una de las técnicas aplicadas. Utiliza gráficos o trablas para apoyar tu conclusiones"
   ]
  },
  {
   "cell_type": "markdown",
   "id": "d1bfd27d-31ae-47dd-9521-d6a2560d6666",
   "metadata": {},
   "source": [
    "## Artículos de investigación"
   ]
  },
  {
   "cell_type": "markdown",
   "id": "ef8f46d1-06d8-403f-9124-37a430888cf8",
   "metadata": {},
   "source": [
    "#### Artículo 1"
   ]
  },
  {
   "cell_type": "markdown",
   "id": "02a1ea07",
   "metadata": {},
   "source": [
    "## Articulo: Anomaly Detection for IoT Time-Series Data: A Survey\n",
    "### **Autores**: Andrew Cook, Goksel Mısırlı, and Zhong Fan\n",
    "### **Fecha**: 06 Diciembre 2019\n",
    "\n",
    "### Objetivo\n",
    "El principal objetivo de la investigación es proporcionar un marco de los desafíos que se pueden encontrar al aplicar técnicas de detección de anomalías a los datos de IoT. Esta investigación también busca discutir una variedad de enfoques que se han desarrollado en diversos dominios, no solo limitados al Internet de las Cosas, y resumir los desafíos actuales en el campo de la detección de anomalías para identificar oportunidades futuras de investigación. \n",
    "\n",
    "La investigación se enfoca en desarrollar métodos automatizados para la detección de anomalias en IoT, lo que permite que expertos puedan investigar solo los eventos más importantes en las observaciones, ya que el análisis manual se vuelve inviable a medida que aumenta la complejidad del volumen de datos. Por lo que estas técnicas buscan convertir los datos en crudos en información procesable para nosotros. \n",
    "\n",
    "Concretamente el artículo habla sobre la detección de anomalías en diferentes dominios: \n",
    "\n",
    "- ***Aplicación general en IoT***: Identificación de observaciones atípicas que pueden afectar futuros análisis realizados sobre datos recopilados en la redes IoT.\n",
    "\n",
    "- ***IoT Industrial (IIoT) e Industria 4.0***:\n",
    "  - Monitorización del estado del sistema en la generación de energía a gran escala.\n",
    "  - Programación inteligente del mantenimiento en plantas de producción más pequeñas.\n",
    "  - Detección de fallos en sistemas de calefacción, ventilación y aire acondicionado (HVAC) residenciales.\n",
    "  - Técnicas de control de calidad en la manufactura.\n",
    "  - Identificación de modos de fallo específicos en maquinaria basada en motores.\n",
    "  - Predicción y diagnóstico de fallos en turbinas eólicas, permitiendo programar mantenimiento antes de que ocurran problemas.\n",
    "  -  Detección temprana de fallos en la maquinaria industrial mediante el monitoreo de componentes internos con sensores de audio, reduciendo el tiempo de inactividad inesperado\n",
    "  - Gestión de concentraciones químicas y de partículas en tanques de plantas de tratamiento de agua, identificando automáticamente estados inadecuados para activar medidas reactivas automáticas.\n",
    "  - Tener una mejor comprensión del estado operativo de equipos industriales más antiguos a traves de la adaptación de soluciones de monitoreo.\n",
    "\n",
    "\n",
    "- ***Energía Inteligente (Smart Energy)***:\n",
    "  - Identificación de fallos en la red de distribución local (como ser, cortes de energía) en tiempo casi real, basándose en los datos de contadores inteligentes.\n",
    "  - Localización de fallos en la red de distribución, como fallas eléctricas o cambios inesperados de impedancia.\n",
    "  - Detección de pérdidas no técnicas, como el robo de energía, utilizando información de contadores inteligentes.\n",
    "\n",
    "- ***Ciudades y Edificios Inteligentes (Smart City and Buildings)***:\n",
    "  - Identificación de condiciones anómalas en la carretera y ubicaciones de alta congestión utilizando datos de diversas fuentes de dispositivos móviles, lo que permite sugerir rutas alternativas.\n",
    "  - Monitoreo de la salud de la superficie de las carreteras para programar un mantenimiento oportuno y reducir daños a vehículos o incidentes de tráfico.\n",
    "  - Mapeo de la congestión en áreas urbanas utilizando datos de trayectoria de autobuses para apoyar la gestión urbana basada en datos.\n",
    "  - Detección y monitoreo de los niveles de contaminación del aire en entornos urbanos para ayudar a la alcadia a tomar decisiones informadas.\n",
    "  - Análisis y mejora de la eficiencia energética en edificios comerciales y residenciales.\n",
    "  - Monitoreo de actividades en situaciones de vida asistida (hogares inteligentes), en donde se aprende el comportamiento \"normal\" de una persona y se trata de identificar las desviaciones significativas (por ejemplo, una caída) como anomalías para alertar a los profesionales de salud encargados del paciente.  \n",
    "\n",
    "\n",
    "---\n",
    "\n",
    "### Técnicas empleadas\n",
    "\n",
    "Debido a que el artículo es una encuesta de las diferentes técnicas de detección de anomálias que se encuentran en la industria, tenemos una revisión de diferentes técnicas aplicadas a diversas situaciones basado en las caractetisticas de los datos y el problema que se estaba trabajando. Por lo que se resumira por áreas las diferentes técnicas empleadas y el problema al que se aplicaron: \n",
    "\n",
    "1. **Técnicas Estadísticas y Probabilísticas**:\n",
    "- Hicieron uso de modelos ARMA (Autoregressive Moving Average) para datos de series de tiempo, incluyendo ARIMA (Autoregressive Integrated Moving Average) para datos no estacionarios y SARMA (Seasonal ARMA) para estacionalidad.\n",
    "- Se realizó un análisis de consumo de electricidad en oficinas universitarias con un umbral de 2σ sobre el error de predicción, usando ARIMA y MLP (Multi-Layer Perceptron).\n",
    "- Detección de fallos y fallas en redes eléctricas usando datos de unidades microsincrofasoriales (sensores de voltaje y corriente)\n",
    "2.  **Coincidencia de Patrones**: En este caso se visualizan las anomálias etiquetadas y los detectores comparan nuevas observaciones con una base de datos de eventos anomálos. Si no encuentra una coincidencia entonces aprender patrones normales o historicos que sirven de base para proximas detecciones. \n",
    "3. **Metodos Basados en Distancias**: Para estos modelos se define una métrica de distancia que sirve para comparar la observación basado en el historico de las mismas. \n",
    "4. **Agrupamiento (Clustering)**:\n",
    "   - El articulo referencia la comparación de distintos métodos de agrupamiento como Isolation Forest junto con ORCA, One-class SVM, LOF y Random Forest para la detección de anomálias. En este caso se comparan los diferentes metodos y debido a la eficiencia computacional que presenta Isolation Forest ven que se puede aplicar este método de detección para datos de flujo (streaming)\n",
    "   - Se menciona el método de MKAD (Multiple Kernel Anomaly Detection) el cual utiliza funciones kernel para aprender medidas de similitud entre variables del flujo de datos y se compara junto con modelos ORCA y SequenceMiner para la detección de anomálias en datos aeroespaciales. El cual obtiene una mejora significativa en la capacidad de detección tanto en datos continuos como discretos. \n",
    "  \n",
    "\n",
    "Adicionalmente a los métodos probabilisticos y basado en agrupamiento, el articulo menciona modelos predictivos utilizando redes neuronales para la detección de anomalías. En este caso comentamos los modelos estudiados y sus diferentes casos de uso basado en la naturaleza de los datos: \n",
    "  - Predicción y diagnóstico de fallos en turbinas eólicas utilizando datos del sistema SCADA.\n",
    "  - **Autoencoders (AE)**: Reconstruyen el vector de entrada; un error de reconstrucción alto indica una anomalía. Utilizados en dispositivos de sensores con recursos limitados, y para detectar fallos en maquinaria industrial a partir de datos de audio y datos de energía de edificios.\n",
    "  - **Redes Neuronales Recurrentes (RNNs)**, incluyendo Long Short-term Memory (LSTM) y Gated Recurrent Units (GRUs): Capturan relaciones temporales entre observaciones. Fue utilizado para los siguientes casos:\n",
    "    - Detección de anomalías en señales ECG (electrocardiograma) usando LSTM.\n",
    "    - Predicción de valores de series de tiempo con LSTM para detección de anomalías donde una gran pérdida indica una anomalía.\n",
    "    - Detección de anomalías colectivas en series de tiempo.\n",
    "    - Detección de anomalías en datos de vuelo de aeronaves usando LSTM y GRU.\n",
    "    -  Detección de anomalías en telemetría de naves espaciales usando LSTM.\n",
    "    - Análisis de errores de predicción de RNN con modelos Gaussian Naive-Bayes.\n",
    "   - Greenhouse method para detección de anomalías fuera de línea en series de tiempo usando RNNs predictivas de múltiples pasos. \n",
    "   - Redes Neuronales Bayesianas que usan LSTM y MLP para predicción con nivel de certeza.\n",
    "   - Simple Online Regression Anomaly Detector (SORAD) para detección de anomalías en línea.\n",
    "  - **Redes Generativas Antagónicas (GANs)** **con LSTMs** para capturar la naturaleza temporal del sistema y entrenar al discriminador para detectar anomalías en sistemas ciberfísicos con datos de sensores y actuadores\n",
    "  - **Análisis de Componentes Principales (PCA)**: Descompone un sistema multivariado en un conjunto reducido de variables independientes. Utilizado para anomalías en el tráfico de red y en sistemas IoT con sensores. También se utilizó para reducir la dimensionalidad de datos multivariados antes de alimentar un GAN.\n",
    "  - **Projection Pursuit**: Reduce la dimensionalidad de un sistema complejo a una dimensión donde se pueden aplicar métodos univariados\n",
    "  - **Hierarchical Temporal Memory (HTM)**: Modelo bio-inspirado para procesar series de tiempo, resistente al ruido y con aprendizaje continuo en línea. Aplicado a la previsión de carga eléctrica y detección de anomalías en tiempo real.\n",
    "  -**Dynamic Bayesian Networks (DBN)**: Aplicadas a datos ambientales univariados y multivariados para detección de anomalías en tiempo real, mejorando la detección con la combinación de múltiples flujos de sensores\n",
    "\n",
    "\n",
    "---\n",
    "\n",
    "### Conclusiones y Resultados\n",
    "\n",
    "Nuevamente debido a que el articulo es una encuesta sobre las diferentes técnicas de detección de anomalías en datos de series temporales de IoT entonces se identificaron diferentes desafios en el tratamiento de los mismos: \n",
    "- **Información Contextual**: La inclusión de información contextual (temporal, espacial, externa) puede mejorar la detección, pero aumenta la complejidad del proceso.\n",
    "-**Dimensionalidad**: Los datos pueden ser univariados (de un solo sensor) o multivariados (de múltiples sensores). La detección en flujos multivariados es más compleja ya que no solo importa el historial, sino también la relación entre las mediciones en cada paso de tiempo. La alta dimensionalidad afecta la elección del método y el costo computacional se vuelve un problema rapidamente.\n",
    "- **Ruido**: Los sistemas IoT a menudo producen datos ruidosos, inconsistentes, faltantes o duplicados, especialmente con sensores de bajo costo y recursos limitados. Reducir el ruido de manera tradicional no siempre genera buenas resultados, ya que un cambio en el patrón del ruido podría ser una anomalía significativa.\n",
    "- **Datos no estacionarios**: Las series temporales del mundo real suelen ser no estacionarias, lo que significa que la media, la varianza y la autocorrelación cambian con el tiempo. Esto incluye el \"Concept Drift\" (cambio en la distribución estadística de los datos), la \"Estacionalidad\" (cambios cíclicos) y los \"Puntos de Cambio\" (cambios abruptos permanentes). La capacidad de un método para adaptarse a estos cambios es crucial para despliegues en el largo plazo.\n",
    "- A menudo, no se dispone de conjuntos de datos históricos suficientes o etiquetados que cubran todos los tipos de anomalías posibles, lo que dificulta el uso de enfoques de aprendizaje supervisado tradicionales.\n",
    "- Se asume que la mayoría de las observaciones son \"normales\". Los métodos no supervisados o semi-supervisados son más viables, ya que se entrenan con datos \"normales\" y reportan datos que caen fuera de los límites de normalidad.\n",
    "\n",
    "Al entender los diferentes desafios presentados para el manejo de datos en IoT los investigadores presentan los siguientes resultados según los diferentes modelos utilizados: \n",
    "1. **Modelos Estadísticos y Probabilísticos**:\n",
    "\n",
    "- ARMA (Autoregressive Moving Average): Construye un modelo paramétrico de la serie de tiempo. Se ha utilizado ampliamente, pero tiene dificultades con conjuntos de datos no estacionarios, especialmente con estacionalidad o cambios de media.\n",
    "- ARIMA (Autoregressive Integrated Moving Average): Está diseñado para manejar la no estacionariedad mediante la diferenciación de los datos para hacerlos más estacionarios. Se ha combinado con éxito con perceptrones multicapa (MLP) para predecir el consumo de electricidad y detectar anomalías, aunque se identificó una gran sensibilidad a usos ocasionales que requerían reglas adicionales para evitar falsos positivos.\n",
    "- SARMA (Seasonal ARMA): Aborda la estacionalidad al generar múltiples modelos a través de diferentes desfases temporales estacionales y aplicar las técnicas de ARMA.\n",
    "2.  **Agrupamiento (Clustering)**:\n",
    "  \n",
    "-  Isolation Forests: Se concluyó que, debido a su eficiencia computacional, este enfoque podría aplicarse a datos de flujo (streaming data).\n",
    "-  Detección de Anomalías con Múltiples Kernels (MKAD): MKAD mostró mejoras significativas en la capacidad de detección en flujos de datos discretos y continuos en comparación con otros métodos contemporáneos.\n",
    "\n",
    "3. **Enfoques Predictivos**:\n",
    "\n",
    "- Redes Neuronales Recurrentes (RNNs) como LSTM y GRU han demostrado una gran capacidad para modelar la variabilidad en sistemas univariados complejos. Se utilizan para predecir valores futuros, y el error de reconstrucción o predicción se usa para identificar anomalías. Algunos enfoques permiten el aprendizaje en línea y la adaptación al \"concept drift\".\n",
    "- Autoencoders: Métodos como Squeezed CNN-VAE (SCVAE) son más adecuados para dispositivos de borde en IoT debido a su tamaño, complejidad y menor costo de entrenamiento.\n",
    "- Los enfoques supervisados, aunque útiles para anomalías conocidas, pueden tener dificultades para identificar modos de anomalía novedosos para los que no fueron entrenados.\n",
    "\n",
    "Basado en estos resultados y hallazgos los investigadores concluyen que no existe un \"mejor\" enfoque único para la detección de anomalias para datos en IoT debido a la caracteristica de los mismos y que son muy dependientes del entorno de despligue en donde actuen los detectores. Adicionalmente destacan la gran necesidad de que el aprendizaje de los detectores se haga en linea ya que como los datos son no estacionarios y poseen series temporales entonces esto requiere que los métodos se adapten constantemente a los cambios en la distribución de los datos. \n",
    "\n",
    "Los investigadores destacan la importancia del uso de datos multivariados que si bien poseen mayor complejidad estos son necesarios para detectar los cambios en las relaciones entre las variables y asi obtener una visión más completa de los sistemas complejos monitoreados en IoT. \n",
    "\n",
    "\n",
    "\n",
    "\n",
    "---"
   ]
  },
  {
   "cell_type": "code",
   "execution_count": null,
   "id": "5f85a7fb-c65b-4fdd-811c-90aad86b5eea",
   "metadata": {},
   "outputs": [],
   "source": [
    "# Coloca en este espacio el análisis del artículo 1"
   ]
  },
  {
   "cell_type": "markdown",
   "id": "6d8d4821-bb0f-4bc7-abe0-00984ef5e673",
   "metadata": {},
   "source": [
    "#### Artículo 2"
   ]
  },
  {
   "cell_type": "code",
   "execution_count": null,
   "id": "999b016d-7cc2-401b-b57c-35475edec3a9",
   "metadata": {},
   "outputs": [],
   "source": [
    "# Coloca en este espacio el análisis del artículo 2"
   ]
  }
 ],
 "metadata": {
  "kernelspec": {
   "display_name": "Python 3 (ipykernel)",
   "language": "python",
   "name": "python3"
  },
  "language_info": {
   "codemirror_mode": {
    "name": "ipython",
    "version": 3
   },
   "file_extension": ".py",
   "mimetype": "text/x-python",
   "name": "python",
   "nbconvert_exporter": "python",
   "pygments_lexer": "ipython3",
   "version": "3.9.18"
  }
 },
 "nbformat": 4,
 "nbformat_minor": 5
}
